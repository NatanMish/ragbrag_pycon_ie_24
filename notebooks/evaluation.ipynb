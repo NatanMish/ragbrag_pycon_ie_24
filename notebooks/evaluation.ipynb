{
 "cells": [
  {
   "cell_type": "markdown",
   "metadata": {},
   "source": [
    "# RAG Evaluation\n",
    "\n",
    "### Imports and configs"
   ]
  },
  {
   "cell_type": "code",
   "execution_count": 1,
   "metadata": {},
   "outputs": [
    {
     "name": "stderr",
     "output_type": "stream",
     "text": [
      "/Users/user/Projects/ragbrag_pycon_ie_24/venv/lib/python3.10/site-packages/deepeval/__init__.py:49: UserWarning: You are using deepeval version 1.2.9, however version 1.4.2 is available. You should consider upgrading via the \"pip install --upgrade deepeval\" command.\n",
      "  warnings.warn(\n",
      "/Users/user/Projects/ragbrag_pycon_ie_24/venv/lib/python3.10/site-packages/pydantic/_internal/_fields.py:132: UserWarning: Field \"model_name\" in HuggingFaceInferenceAPIEmbeddings has conflict with protected namespace \"model_\".\n",
      "\n",
      "You may be able to resolve this warning by setting `model_config['protected_namespaces'] = ()`.\n",
      "  warnings.warn(\n"
     ]
    },
    {
     "name": "stdout",
     "output_type": "stream",
     "text": [
      "Loading vector store from cache...\n"
     ]
    }
   ],
   "source": [
    "from typing import List\n",
    "from llama_index.core import SimpleDirectoryReader\n",
    "from llama_index.embeddings.openai import OpenAIEmbedding\n",
    "from llama_index.core import Settings\n",
    "import os\n",
    "import sys\n",
    "from dotenv import load_dotenv\n",
    "import json\n",
    "from deepeval import evaluate\n",
    "from deepeval.metrics import GEval, FaithfulnessMetric, ContextualRelevancyMetric\n",
    "from deepeval.test_case import LLMTestCaseParams, LLMTestCase\n",
    "from utils import load_or_create_vector_store\n",
    "\n",
    "\n",
    "sys.path.append(os.path.abspath(os.path.join(os.getcwd(), '..')))\n",
    "\n",
    "EMBED_DIMENSION = 512\n",
    "CHUNK_SIZE = 250\n",
    "CHUNK_OVERLAP = 25\n",
    "\n",
    "load_dotenv()\n",
    "\n",
    "os.environ[\"OPENAI_API_KEY\"] = os.getenv('OPENAI_API_KEY')\n",
    "\n",
    "Settings.embed_model = OpenAIEmbedding(model=\"text-embedding-3-small\", dimensions=EMBED_DIMENSION)\n",
    "\n",
    "path = \"../data/\"\n",
    "node_parser = SimpleDirectoryReader(input_dir=path, required_exts=['.txt', '.pdf'])\n",
    "documents = node_parser.load_data()\n",
    "    \n",
    "CACHE_DIR = \"../cache\"\n",
    "VECTOR_STORE_PATH = os.path.join(CACHE_DIR, \"faiss_index.pkl\")\n",
    "HASH_PATH = os.path.join(CACHE_DIR, \"documents_hash.txt\")\n",
    "\n",
    "vector_store_index = load_or_create_vector_store(documents, EMBED_DIMENSION, CHUNK_SIZE, CHUNK_OVERLAP, cache_dir=CACHE_DIR, vector_store_path=VECTOR_STORE_PATH, hash_path=HASH_PATH)\n",
    "retriever = vector_store_index.as_retriever(similarity_top_k=2)"
   ]
  },
  {
   "cell_type": "markdown",
   "metadata": {},
   "source": [
    "### Evaluation"
   ]
  },
  {
   "cell_type": "code",
   "execution_count": 2,
   "metadata": {},
   "outputs": [],
   "source": [
    "def create_deep_eval_test_cases(\n",
    "    questions: List[str],\n",
    "    gt_answers: List[str],\n",
    "    generated_answers: List[str],\n",
    "    retrieved_documents: List[str]\n",
    ") -> List[LLMTestCase]:\n",
    "    \"\"\"\n",
    "    Create a list of LLMTestCase objects for evaluation.\n",
    "\n",
    "    Args:\n",
    "        questions (List[str]): List of input questions.\n",
    "        gt_answers (List[str]): List of ground truth answers.\n",
    "        generated_answers (List[str]): List of generated answers.\n",
    "        retrieved_documents (List[str]): List of retrieved documents.\n",
    "\n",
    "    Returns:\n",
    "        List[LLMTestCase]: List of LLMTestCase objects.\n",
    "    \"\"\"\n",
    "    return [\n",
    "        LLMTestCase(\n",
    "            input=question,\n",
    "            expected_output=gt_answer,\n",
    "            actual_output=generated_answer,\n",
    "            retrieval_context=retrieved_document\n",
    "        )\n",
    "        for question, gt_answer, generated_answer, retrieved_document in zip(\n",
    "            questions, gt_answers, generated_answers, retrieved_documents\n",
    "        )\n",
    "    ]"
   ]
  },
  {
   "cell_type": "code",
   "execution_count": 3,
   "metadata": {},
   "outputs": [],
   "source": [
    "# Set llm model for evaluation of the question and answers \n",
    "LLM_MODEL = \"gpt-4o\"\n",
    "\n",
    "# Define evaluation metrics\n",
    "correctness_metric = GEval(\n",
    "    name=\"Correctness\",\n",
    "    model=LLM_MODEL,\n",
    "    evaluation_params=[\n",
    "        LLMTestCaseParams.EXPECTED_OUTPUT,\n",
    "        LLMTestCaseParams.ACTUAL_OUTPUT\n",
    "    ],\n",
    "    evaluation_steps=[\n",
    "        \"Determine whether the actual output is factually correct based on the expected output.\"\n",
    "    ],\n",
    ")\n",
    "\n",
    "faithfulness_metric = FaithfulnessMetric(\n",
    "    threshold=0.7,\n",
    "    model=LLM_MODEL,\n",
    "    include_reason=False\n",
    ")\n",
    "\n",
    "relevance_metric = ContextualRelevancyMetric(\n",
    "    threshold=1,\n",
    "    model=LLM_MODEL,\n",
    "    include_reason=True\n",
    ")\n",
    "\n",
    "def evaluate_rag(query_engine, num_questions: int = 5) -> None:\n",
    "    \"\"\"\n",
    "    Evaluate the RAG system using predefined metrics.\n",
    "\n",
    "    Args:\n",
    "        query_engine: Query engine to ask questions and get answers along with retrieved context.\n",
    "        num_questions (int): Number of questions to evaluate (default: 5).\n",
    "    \"\"\"\n",
    "    \n",
    "    \n",
    "    # Load questions and answers from JSON file\n",
    "    q_a_file_name = \"../data/q_a.json\"\n",
    "    with open(q_a_file_name, \"r\", encoding=\"utf-8\") as json_file:\n",
    "        q_a = json.load(json_file)\n",
    "\n",
    "    questions = [qa[\"question\"] for qa in q_a][:num_questions]\n",
    "    ground_truth_answers = [qa[\"answer\"] for qa in q_a][:num_questions]\n",
    "    generated_answers = []\n",
    "    retrieved_documents = []\n",
    "\n",
    "    # Generate answers and retrieve documents for each question\n",
    "    for question in questions:\n",
    "        response = query_engine.query(question)\n",
    "        context = [doc.text for doc in response.source_nodes]\n",
    "        retrieved_documents.append(context)\n",
    "        generated_answers.append(response.response)\n",
    "\n",
    "    # Create test cases and evaluate\n",
    "    test_cases = create_deep_eval_test_cases(questions, ground_truth_answers, generated_answers, retrieved_documents)\n",
    "    evaluate(\n",
    "        test_cases=test_cases,\n",
    "        metrics=[correctness_metric, faithfulness_metric, relevance_metric]\n",
    "    )"
   ]
  },
  {
   "cell_type": "code",
   "execution_count": 4,
   "metadata": {},
   "outputs": [
    {
     "data": {
      "text/html": [
       "<pre style=\"white-space:pre;overflow-x:auto;line-height:normal;font-family:Menlo,'DejaVu Sans Mono',consolas,'Courier New',monospace\">✨ You're running DeepEval's latest <span style=\"color: #6a00ff; text-decoration-color: #6a00ff\">Correctness </span><span style=\"color: #6a00ff; text-decoration-color: #6a00ff; font-weight: bold\">(</span><span style=\"color: #6a00ff; text-decoration-color: #6a00ff\">GEval</span><span style=\"color: #6a00ff; text-decoration-color: #6a00ff; font-weight: bold\">)</span><span style=\"color: #6a00ff; text-decoration-color: #6a00ff\"> Metric</span>! <span style=\"color: #374151; text-decoration-color: #374151; font-weight: bold\">(</span><span style=\"color: #374151; text-decoration-color: #374151\">using gpt-4o, </span><span style=\"color: #374151; text-decoration-color: #374151\">strict</span><span style=\"color: #374151; text-decoration-color: #374151\">=</span><span style=\"color: #374151; text-decoration-color: #374151; font-style: italic\">False</span><span style=\"color: #374151; text-decoration-color: #374151\">, </span><span style=\"color: #374151; text-decoration-color: #374151\">async_mode</span><span style=\"color: #374151; text-decoration-color: #374151\">=</span><span style=\"color: #374151; text-decoration-color: #374151; font-style: italic\">True</span><span style=\"color: #374151; text-decoration-color: #374151; font-weight: bold\">)</span><span style=\"color: #374151; text-decoration-color: #374151\">...</span>\n",
       "</pre>\n"
      ],
      "text/plain": [
       "✨ You're running DeepEval's latest \u001b[38;2;106;0;255mCorrectness \u001b[0m\u001b[1;38;2;106;0;255m(\u001b[0m\u001b[38;2;106;0;255mGEval\u001b[0m\u001b[1;38;2;106;0;255m)\u001b[0m\u001b[38;2;106;0;255m Metric\u001b[0m! \u001b[1;38;2;55;65;81m(\u001b[0m\u001b[38;2;55;65;81musing gpt-4o, \u001b[0m\u001b[38;2;55;65;81mstrict\u001b[0m\u001b[38;2;55;65;81m=\u001b[0m\u001b[3;38;2;55;65;81mFalse\u001b[0m\u001b[38;2;55;65;81m, \u001b[0m\u001b[38;2;55;65;81masync_mode\u001b[0m\u001b[38;2;55;65;81m=\u001b[0m\u001b[3;38;2;55;65;81mTrue\u001b[0m\u001b[1;38;2;55;65;81m)\u001b[0m\u001b[38;2;55;65;81m...\u001b[0m\n"
      ]
     },
     "metadata": {},
     "output_type": "display_data"
    },
    {
     "data": {
      "text/html": [
       "<pre style=\"white-space:pre;overflow-x:auto;line-height:normal;font-family:Menlo,'DejaVu Sans Mono',consolas,'Courier New',monospace\">✨ You're running DeepEval's latest <span style=\"color: #6a00ff; text-decoration-color: #6a00ff\">Faithfulness Metric</span>! <span style=\"color: #374151; text-decoration-color: #374151; font-weight: bold\">(</span><span style=\"color: #374151; text-decoration-color: #374151\">using gpt-4o, </span><span style=\"color: #374151; text-decoration-color: #374151\">strict</span><span style=\"color: #374151; text-decoration-color: #374151\">=</span><span style=\"color: #374151; text-decoration-color: #374151; font-style: italic\">False</span><span style=\"color: #374151; text-decoration-color: #374151\">, </span><span style=\"color: #374151; text-decoration-color: #374151\">async_mode</span><span style=\"color: #374151; text-decoration-color: #374151\">=</span><span style=\"color: #374151; text-decoration-color: #374151; font-style: italic\">True</span><span style=\"color: #374151; text-decoration-color: #374151; font-weight: bold\">)</span><span style=\"color: #374151; text-decoration-color: #374151\">...</span>\n",
       "</pre>\n"
      ],
      "text/plain": [
       "✨ You're running DeepEval's latest \u001b[38;2;106;0;255mFaithfulness Metric\u001b[0m! \u001b[1;38;2;55;65;81m(\u001b[0m\u001b[38;2;55;65;81musing gpt-4o, \u001b[0m\u001b[38;2;55;65;81mstrict\u001b[0m\u001b[38;2;55;65;81m=\u001b[0m\u001b[3;38;2;55;65;81mFalse\u001b[0m\u001b[38;2;55;65;81m, \u001b[0m\u001b[38;2;55;65;81masync_mode\u001b[0m\u001b[38;2;55;65;81m=\u001b[0m\u001b[3;38;2;55;65;81mTrue\u001b[0m\u001b[1;38;2;55;65;81m)\u001b[0m\u001b[38;2;55;65;81m...\u001b[0m\n"
      ]
     },
     "metadata": {},
     "output_type": "display_data"
    },
    {
     "data": {
      "text/html": [
       "<pre style=\"white-space:pre;overflow-x:auto;line-height:normal;font-family:Menlo,'DejaVu Sans Mono',consolas,'Courier New',monospace\">✨ You're running DeepEval's latest <span style=\"color: #6a00ff; text-decoration-color: #6a00ff\">Contextual Relevancy Metric</span>! <span style=\"color: #374151; text-decoration-color: #374151; font-weight: bold\">(</span><span style=\"color: #374151; text-decoration-color: #374151\">using gpt-4o, </span><span style=\"color: #374151; text-decoration-color: #374151\">strict</span><span style=\"color: #374151; text-decoration-color: #374151\">=</span><span style=\"color: #374151; text-decoration-color: #374151; font-style: italic\">False</span><span style=\"color: #374151; text-decoration-color: #374151\">, </span><span style=\"color: #374151; text-decoration-color: #374151\">async_mode</span><span style=\"color: #374151; text-decoration-color: #374151\">=</span><span style=\"color: #374151; text-decoration-color: #374151; font-style: italic\">True</span><span style=\"color: #374151; text-decoration-color: #374151; font-weight: bold\">)</span><span style=\"color: #374151; text-decoration-color: #374151\">...</span>\n",
       "</pre>\n"
      ],
      "text/plain": [
       "✨ You're running DeepEval's latest \u001b[38;2;106;0;255mContextual Relevancy Metric\u001b[0m! \u001b[1;38;2;55;65;81m(\u001b[0m\u001b[38;2;55;65;81musing gpt-4o, \u001b[0m\u001b[38;2;55;65;81mstrict\u001b[0m\u001b[38;2;55;65;81m=\u001b[0m\u001b[3;38;2;55;65;81mFalse\u001b[0m\u001b[38;2;55;65;81m, \u001b[0m\u001b[38;2;55;65;81masync_mode\u001b[0m\u001b[38;2;55;65;81m=\u001b[0m\u001b[3;38;2;55;65;81mTrue\u001b[0m\u001b[1;38;2;55;65;81m)\u001b[0m\u001b[38;2;55;65;81m...\u001b[0m\n"
      ]
     },
     "metadata": {},
     "output_type": "display_data"
    },
    {
     "name": "stdout",
     "output_type": "stream",
     "text": [
      "Event loop is already running. Applying nest_asyncio patch to allow async execution...\n"
     ]
    },
    {
     "name": "stderr",
     "output_type": "stream",
     "text": [
      "Evaluating 6 test case(s) in parallel: |██████████|100% (6/6) [Time Taken: 00:06,  1.10s/test case]"
     ]
    },
    {
     "name": "stdout",
     "output_type": "stream",
     "text": [
      "\n",
      "======================================================================\n",
      "\n",
      "Metrics Summary\n",
      "\n",
      "  - ✅ Correctness (GEval) (score: 1.0, threshold: 0.5, strict: False, evaluation model: gpt-4o, reason: The actual output is factually correct as it matches the expected output verbatim regarding the Green party's promise., error: None)\n",
      "  - ✅ Faithfulness (score: 1.0, threshold: 0.7, strict: False, evaluation model: gpt-4o, reason: None, error: None)\n",
      "  - ✅ Contextual Relevancy (score: 1.0, threshold: 1.0, strict: False, evaluation model: gpt-4o, reason: The score is 1.00 because the context perfectly aligns with the input. Great job!, error: None)\n",
      "\n",
      "For test case:\n",
      "\n",
      "  - input: By how much does the Green party promise to increase the disability benefits?\n",
      "  - actual output: The Green party promises to increase disability benefits by 5%.\n",
      "  - expected output: The Green party promises to increase disability benefits by 5%.\n",
      "  - context: None\n",
      "  - retrieval context: ['• Increase all disability benefits by 5%.\\n• Ensure that pensions are always uprated in line with inflation and keep pace with wage rises across the economy.\\n• Increase carer’s allowance by at least  10% a month. • Scrap the bedroom tax.In the long term, Green MPs will push for the introduction of a Universal Basic Income that will give everybody the security to start a business, study, train or just live their life in dignity. This major change to our tax and social security system is the work of more than one parliament. In the meantime, we will end benefit sanctions and challenge the punitive approach to welfare claimants, instead recognising that that all of us might need extra support or a safety net at different points in our lives. Elected Greens will take every opportunity to advocate for the most disadvantaged in society.\\nThroughout this Manifesto there are further measures aimed at helping people struggling with the cost of living including free home insulation, subsidised public transport, and investment in the public services. Giving Everyone a Fairer, Greener Deal', '18 19\\nReal Hope.Real Hope.\\nReal Change.Real Change.Real Hope.Real Hope.\\nReal Change.Real Change. Making Work Fair Giving Everyone a Fairer, Greener Dealaccess their data and to appeal management decisions. Gig employers that repeatedly breach data protection, employment or tax law will be denied licences to operate.\\nGreen MPs will push for pay-gap protections to be extended to all protected characteristics including ethnicity, disability and sexual orientation. We believe in equal pay for equal work and in the right to flexible working arrangements that will benefit women, carers and disabled people in particular.\\nReducing working time can make us all happier, healthier and more productive. Elected Greens will support reduced working hours and moving towards a four-day working week. Most of us want to live in a country where everyone is treated with dignity - not one in which record numbers of children are in poverty, older people can’t keep warm or disabled people are being badly let down. A combination of austerity, poor choices in response to the Covid pandemic and the ongoing cost-of-living crisis has left too many people reliant on foodbanks and going hungry. The Joseph Rowntree Foundation estimate that 3.8 million people experienced destitution in 2022, including one million children.\\nWith the right political choices, we can do so much better – lifting everyone up and making sure all of us can access extra help if we need it.\\nElected Greens will campaign to: • Increase Universal Credit and legacy benefits by £40 a week.\\n• End the unfair five-week wait for benefits which is pushing people into debt.\\n• Abolish the two-child benefit cap and lift 250,000 children out of poverty.\\n• Increase all disability benefits by 5%.\\n• Ensure that pensions are always uprated in line with inflation and keep pace with wage rises across the economy.\\n• Increase carer’s allowance by at least  10% a month. • Scrap the bedroom tax.In the long term, Green MPs will push for the introduction of a Universal Basic Income that will give everybody the security to start a business, study, train or just live their life in dignity.']\n",
      "\n",
      "======================================================================\n",
      "\n",
      "Metrics Summary\n",
      "\n",
      "  - ✅ Correctness (GEval) (score: 0.9970687768964112, threshold: 0.5, strict: False, evaluation model: gpt-4o, reason: The actual output correctly states that the SNP's policy is to rule out new nuclear power plants in Scotland, which aligns with the expected opposition to new nuclear plants., error: None)\n",
      "  - ✅ Faithfulness (score: 1.0, threshold: 0.7, strict: False, evaluation model: gpt-4o, reason: None, error: None)\n",
      "  - ❌ Contextual Relevancy (score: 0.5, threshold: 1.0, strict: False, evaluation model: gpt-4o, reason: The score is 0.50 because the context discusses economic growth and energy transitions but does not mention SNP's stance on nuclear plants in Scotland., error: None)\n",
      "\n",
      "For test case:\n",
      "\n",
      "  - input: What is the SNP's policy on new nuclear plants in Scotland?\n",
      "  - actual output: The SNP's policy is to rule out new nuclear power plants in Scotland.\n",
      "  - expected output: The SNP is opposed to new nuclear plants in Scotland.\n",
      "  - context: None\n",
      "  - retrieval context: ['We are supporting  them with the £500 million North-East Transition Fund - a fund the UK Government must now  at least match. Deliver a sustainable future for Grangemouth.\\nThe future of the Grangemouth complex must be secured and a just transition delivered for the workforce. The UK Government must recognise the importance of the whole site to Scotland’s economy and communities and must invest in a sustainable future. Time is needed to unlock the significant opportunities for green industries of the future and it is important that the skilled workforce is retained, by extending refining for as long as possible, while that happens. Only in this way, can as many jobs as possible be protected and the transition made to working on the new, greener technologies that offer a long-term future for the site..\\nRule out new nuclear power plants in Scotland. The SNP believe the best pathway to net zero and secure, affordable and clean energy is through significant growth in renewables, storage, hydrogen and carbon capture. Promote Scotland’s hydrogen export potential. Scotland is well placed to supply significant amounts of hydrogen to continental Europe.  SNP MPs will press for the UK Government to secure progress with direct interconnection between Scotland and the continent, and regulatory agreement to unlock Scotland’s renewable potential.', '20BUILDING A FAIRER, GREENER ECONOMY Under the SNP, Scotland’s economy is already one of the best performing parts of the UK with both GDP per head and productivity growing faster in Scotland than the UK as a whole.  But we want to go further. Our commitment to tackling the twin crises of climate change and nature loss is unwavering and we believe emissions reduction and economic prosperity go hand in hand. We want  to share in the enormous economic opportunities of the global transition to net zero. SNP MPs will demand the UK Government:\\nBring forward an immediate emergency budget following the election to reverse cuts to public spending and deliver meaningful investment in economic growth, including green energy.\\nWork at pace with the Acorn Project and Scottish Cluster to secure the fastest possible deployment following the UK Government’s failure to support the Acorn carbon capture, utilisation and storage project at track 1. Urgent clarity is required to restore investor confidence, boost economic opportunities and make progress against our net zero obligations. Modernise the Contracts for Difference scheme to enable the stable deployment  of Scotland’s renewable energy pipeline.\\nTake an evidence-based approach to oil and gas.  The UK Government is the decision-maker on new oil and gas licences. We believe any further extraction must be consistent with  our climate obligations and take due account  of energy security considerations. Decisions must be made on a rigorously evidence-led, case-by-case basis, through a robust climate compatibility assessment.Support the North East and the Just Transition.  North Sea oil and gas is naturally declining,  and as the transition to new industries gathers pace, we are clear that the workers, families  and people of that industry and the North East must not be abandoned. We are supporting  them with the £500 million North-East Transition Fund - a fund the UK Government must now  at least match. Deliver a sustainable future for Grangemouth.\\nThe future of the Grangemouth complex must be secured and a just transition delivered for the workforce. The UK Government must recognise the importance of the whole site to Scotland’s economy and communities and must invest in a sustainable future.']\n",
      "\n",
      "======================================================================\n",
      "\n",
      "Metrics Summary\n",
      "\n",
      "  - ✅ Correctness (GEval) (score: 0.8962673109924918, threshold: 0.5, strict: False, evaluation model: gpt-4o, reason: The actual output closely matches the expected output, but it omits '1' before 'gigabit'., error: None)\n",
      "  - ✅ Faithfulness (score: 1.0, threshold: 0.7, strict: False, evaluation model: gpt-4o, reason: None, error: None)\n",
      "  - ❌ Contextual Relevancy (score: 0.5, threshold: 1.0, strict: False, evaluation model: gpt-4o, reason: The score is 0.50 because the context focuses on Conservative Government initiatives rather than the promises of the Liberal Democrats., error: None)\n",
      "\n",
      "For test case:\n",
      "\n",
      "  - input: How much gigabit of broadband is the liberal democrats promising to provide to every home and business in the UK?\n",
      "  - actual output: The Liberal Democrats are promising to provide gigabit broadband to every home and business in the UK.\n",
      "  - expected output: The Liberal Democrats are promising to provide 1 gigabit of broadband to every home and business in the UK.\n",
      "  - context: None\n",
      "  - retrieval context: ['We will not increase Capital Gains Tax.\\xa0\\n6� Promote digital invoicing and improve enforcement of the Prompt Payment Code to support small businesses with the perennial challenge of cashflow, building on our creation of the Small Business Commissioner with powers to tackle unfavourable payment practices.\\xa0\\xa0\\n7� Ensure that Basel III capital requirements do not inhibit lending to SMEs� \\xa0\\n8� Continue our world leading programmes including the Invest in Women Task Force and the Lilac Review to encourage more female and disabled entrepreneurs. \\xa0\\n9� Work with the British Business Bank and private sector fund managers to secure a £250 million Invest In Women Fund to support female entrepreneurs.\\xa0\\n10� Work with public sector organisations including local authorities and NHS trusts and companies benefitting from government contracts to ensure that procurement opportunities are focused on SMEs in their local economies where possible and practical�\\nInvesting in infrastructure\\nA Conservative Government will continue to invest in the digital, transport and energy infrastructure needed for businesses to grow.\\nWe have transformed our digital infrastructure by rolling out gigabit broadband to over a million hard to reach premises, helping to deliver high-speed internet to over 80% of the country. We are set to achieve at least 85% gigabit coverage of the UK by 2025 and nationwide coverage by 2030. Our ambition is for all populated areas to be covered by ‘standalone’ 5G mobile connectivity and to keep the UK at the forefront of adopting and developing 6G. We will spend £36 billion of HS2 savings on transport projects that will benefit more people, in more places, more quickly. Every penny saved in the North or Midlands will be spent there. Savings from our new plan for Euston,', '76\\nLiberal Democrat Election Manifesto 2024•  Ensure that gigabit broadband is available to every home and business, including in rural and remote communities, and support local bespoke solutions so that no property is left out.\\n•  End the top-down reorganisation of councils and the imposition of elected mayors on communities who do not want them.\\n•  Work with communities to tackle the alarming rise of antisemitism and Islamophobia.\\nIn addition, we will:\\n•  Decentralise decision-making from Whitehall and Westminster by inviting local areas to take control of the services that matter to them most.\\n•  Strengthen local democracy as set out in chapter 20, including introducing proportional representation for electing councillors in England and scrapping the Conservatives’ voter ID scheme.\\n•  Appoint a cross-departmental Minister for Rural Communities, to make sure that rural voices are heard across government.\\n•  Give local authorities new powers to control second homes and short-term lets in their areas by:\\n• Allowing them to increase council tax by up to 500% where homes are being bought as second homes, with a stamp duty surcharge on overseas residents purchasing such properties.\\n• Creating a new planning class for these properties.\\n•  Encourage post offices to become community banking and government hubs, and keep DVLA services available at post office counters.\\n•  Enhance powers over community assets to help local authorities protect pubs, community farms, and other vital infrastructure.']\n",
      "\n",
      "======================================================================\n",
      "\n",
      "Metrics Summary\n",
      "\n",
      "  - ✅ Correctness (GEval) (score: 0.7567658235916708, threshold: 0.5, strict: False, evaluation model: gpt-4o, reason: The actual output uses 'detention places' instead of 'detention centres', which alters the meaning and specificity slightly., error: None)\n",
      "  - ✅ Faithfulness (score: 1.0, threshold: 0.7, strict: False, evaluation model: gpt-4o, reason: None, error: None)\n",
      "  - ❌ Contextual Relevancy (score: 0.0, threshold: 1.0, strict: False, evaluation model: gpt-4o, reason: The score is 0.00 because the context discusses 'Start Building of 10,000 New Detention Places' without specifying how many detention centres Reform UK plans to build, and it focuses on housing policies, not detention centres., error: None)\n",
      "\n",
      "For test case:\n",
      "\n",
      "  - input: How many detention centres does the Reform UK party plan to start building?\n",
      "  - actual output: The Reform UK party plans to start building 10,000 new detention places.\n",
      "  - expected output: The Reform UK party plans to start building 10,000 new detention centres.\n",
      "  - context: None\n",
      "  - retrieval context: ['Reform UK: Our Contract with You\\nReform UK will build a  common sense justice system that punishes criminals and keeps the public safe. CRITICAL REFORMS NEEDED IN THE  FIRST 100 DAYS:\\nUrgent Sentencing Review with Automatic Life Imprisonment for Violent Repeat Offenders\\nThose committing second violent or serious offences will receive mandatory life sentences. Increase the Criminal Justice Budget\\nThe budget is almost the same as it was 10 years ago. Increase it from £10 billion to £12 billion to ensure more high calibre staff to cut delays. Reopen local magistrates’ courts to clear the case backlog.\\nChange the Definition of Hate Crime\\nThe CPS and police definition of a hate crime has led to systemic bias. Members of the British public must not be investigated because ‘any’ person ‘perceives’ that a hate crime has been committed. Start Building of 10,000 New Detention Places\\nStart expansion in capacity of state built and managed prisons so that life means life for those who endanger the public. Commission disused military bases if needed.\\nThereafter:\\nReform the Child Maintenance Service\\nWe will launch a special division of the Family Court for maintenance and defaults. Share parental care 50/50 where appropriate. Rights of access for grandparents. Stop Child Grooming Gangs\\nDeport offenders holding dual citizenship. Make child grooming an aggravating offence. Improve safeguarding of victims and vulnerable. No bail for grooming gang offenders. Tackle Youth Crime\\nReopen High Intensity Training Camps for young offenders to teach basic education,  teamwork and values. JUSTICE\\nOur Justice System Needs Reform\\nREFORM UK 2024 10“Reform UK  will make sure that criminals face justice.”\\nJUSTICE PLEDGES COSTS  = £2 BILLION PA', 'Reform UK: Our Contract with You\\nReform UK will ensure that people can own their own home by unleashing housebuilding across the country and cutting immigration.  CRITICAL REFORMS NEEDED IN THE  FIRST 100 DAYS:\\nReview the Planning System\\nFast-track planning and tax incentives for development of brownfield sites. ‘Loose fit planning’ policy for large residential developments with pre-\\napproved guidelines and developer requirements. Reform Social Housing Law\\nPrioritise local people and those who have paid into the system. Foreign nationals must go to the back of the queue. Not the front.\\nScrap section 24 for Landlords\\nThe tax system should encourage smaller landlords into the rental markets. Not penalise them. We will restore landlords’ rights to deduct finance costs and mortgage interest from tax on rental income. Abolish the Renters’ (Reform) Bill\\nExisting legislation was inadequate to address bad practices. Instead, we will boost the monitoring, appeals and enforcement process for renters with grievances.\\nThereafter:\\nProtection for Leaseholders All potential charges for leasehold or freehold residents must be clearly stated and consented to. Enforce Section 106 agreements. Ensure it is cheaper and easier to extend leases to 990 years and buy freeholds.\\nIncentivise Use of New Construction Technology\\nWe will incentivise innovation to speed up building: modular construction, digital technology and building sites that improve efficiency and cut waste. HOUSING\\nBritain has a Housing Crisis\\nREFORM UK 2024 15“Affordable homes for hard-working British people.”\\nHOUSING PLEDGES  COSTS = £ NEUTRAL']\n",
      "\n",
      "======================================================================\n",
      "\n",
      "Metrics Summary\n",
      "\n",
      "  - ✅ Correctness (GEval) (score: 0.7990699093237692, threshold: 0.5, strict: False, evaluation model: gpt-4o, reason: The actual output is mostly correct regarding the investment in compute clusters but omits the purpose of taking advantage of AI potential., error: None)\n",
      "  - ✅ Faithfulness (score: 1.0, threshold: 0.7, strict: False, evaluation model: gpt-4o, reason: None, error: None)\n",
      "  - ❌ Contextual Relevancy (score: 0.5, threshold: 1.0, strict: False, evaluation model: gpt-4o, reason: The score is 0.50 because the context covers the Conservative Government's initiatives like digital infrastructure and transport projects but lacks specific information on investments in large-scale compute clusters., error: None)\n",
      "\n",
      "For test case:\n",
      "\n",
      "  - input: How much is the conservative party planning to invest in large-scale compute clusters?\n",
      "  - actual output: The Conservative Party is planning to invest over £1.5 billion in large-scale compute clusters.\n",
      "  - expected output: The conservative party is planning to invest £1.5 billion in large-scale compute clusters so they can take advantage of the potential of AI\n",
      "  - context: None\n",
      "  - retrieval context: ['9 The Conservative and Unionist Party Manifesto 2024mandate, an industry-backed revenue support mechanism and investment in future aviation technology. We will support domestic flights including through Public Service Obligations, protecting vital routes within the UK, including to islands and remote areas. We will back our maritime sector, including shipping and ports, as it decarbonises. Recognising the current challenges with cross-Solent transport, we will establish a review to explore all options to provide more choice and drive down fares. We will foster our science and innovation expertise in the space industry.\\nSecuring the UK’s position as a world leader in innovation\\nArtificial intelligence (AI) will accelerate human progress in the 21st century, just as the steam engine and electricity did in the 19th century. The UK is well positioned to spearhead this transformation and is already leading global work on AI safety. Over the last 14 years, the Conservatives have turned the UK into a science and innovation superpower. The UK now has the highest level of direct government funding and tax support for business research and development (R&D) of any country in the OECD. We pioneered the fastest development and deployment of the Covid vaccine. The UK has Europe’s leading tech ecosystem. We have secured improved financial terms to join Horizon.\\nIn the next Parliament, we will:\\n ❱Increase public spending on R&D to £22 billion a year, up from £20 billion this year.\\n ❱Maintain our R&D tax reliefs. Recent changes worth £280 million a year have simplified and improved R&D tax reliefs, including by bringing more SMEs into scope of the relief.  ❱Continue investing over £1.5 billion in large-scale compute clusters, assembling the raw processing power so we can take advantage of the potential of AI and support research into its safe and responsible use.\\n ❱Push forward with our Advanced Manufacturing Plan, providing a £4.5 billion commitment to secure strategic manufacturing sectors including automotive, aerospace, life sciences and clean energy.', 'We will not increase Capital Gains Tax.\\xa0\\n6� Promote digital invoicing and improve enforcement of the Prompt Payment Code to support small businesses with the perennial challenge of cashflow, building on our creation of the Small Business Commissioner with powers to tackle unfavourable payment practices.\\xa0\\xa0\\n7� Ensure that Basel III capital requirements do not inhibit lending to SMEs� \\xa0\\n8� Continue our world leading programmes including the Invest in Women Task Force and the Lilac Review to encourage more female and disabled entrepreneurs. \\xa0\\n9� Work with the British Business Bank and private sector fund managers to secure a £250 million Invest In Women Fund to support female entrepreneurs.\\xa0\\n10� Work with public sector organisations including local authorities and NHS trusts and companies benefitting from government contracts to ensure that procurement opportunities are focused on SMEs in their local economies where possible and practical�\\nInvesting in infrastructure\\nA Conservative Government will continue to invest in the digital, transport and energy infrastructure needed for businesses to grow.\\nWe have transformed our digital infrastructure by rolling out gigabit broadband to over a million hard to reach premises, helping to deliver high-speed internet to over 80% of the country. We are set to achieve at least 85% gigabit coverage of the UK by 2025 and nationwide coverage by 2030. Our ambition is for all populated areas to be covered by ‘standalone’ 5G mobile connectivity and to keep the UK at the forefront of adopting and developing 6G. We will spend £36 billion of HS2 savings on transport projects that will benefit more people, in more places, more quickly. Every penny saved in the North or Midlands will be spent there. Savings from our new plan for Euston,']\n",
      "\n",
      "======================================================================\n",
      "\n",
      "Metrics Summary\n",
      "\n",
      "  - ❌ Correctness (GEval) (score: 0.11393602840389586, threshold: 0.5, strict: False, evaluation model: gpt-4o, reason: The actual output does not mention ending tax breaks for private schools, which is the method of financing in the expected output. It instead discusses reviewing bursaries and other unrelated strategies., error: None)\n",
      "  - ✅ Faithfulness (score: 1.0, threshold: 0.7, strict: False, evaluation model: gpt-4o, reason: None, error: None)\n",
      "  - ❌ Contextual Relevancy (score: 0.0, threshold: 1.0, strict: False, evaluation model: gpt-4o, reason: The score is 0.00 because the context discusses the current government's achievements and plans in education, but it does not address Labour's specific financing plans for recruiting 6500 new teachers., error: None)\n",
      "\n",
      "For test case:\n",
      "\n",
      "  - input: How is the Labour party planning to finance recruiting 6500 new teachers?\n",
      "  - actual output: The Labour party is planning to finance recruiting 6500 new teachers by reviewing the way bursaries are allocated, addressing retention issues, and updating the Early Career Framework to ensure new teachers entering the classroom have or are working towards Qualified Teacher Status.\n",
      "  - expected output: The Labour party is planning to finance recruiting 6500 new teachers by ending tax breaks for private schools.\n",
      "  - context: None\n",
      "  - retrieval context: ['26  Education is the closest thing we have to a silver bullet, which is why since 2010 we have focused on driving up standards in education. English children are now the best readers in the Western world and are 11th in the world for maths, up from 27th when Labour left office in 2010. Children in England now far outperform their peers in Labour-\\nrun Wales and SNP-run Scotland. We will build on this success to make sure every child gets a world-\\nclass education and reaches their full potential.\\nGiving every child the chance to go to a great school\\nToday, 90% of schools are Good or Outstanding, up from 68% in 2010. School funding is at its highest ever level in real terms per pupil and there are record numbers of teachers, 27,000 more than 2010. The pupil premium, introduced by the Conservatives in 2011, will allocate almost £3 billion next year to support disadvantaged children to reach their full potential. Free school meals have been extended to more groups of children than under any other government over the past half a century. We will build on this progress in the next Parliament by protecting day-to-day schools spending in real terms per pupil.\\nNone of this progress has been possible without our great teachers. We have hit our 2019 manifesto commitment to introduce starting salaries of £30,000 and are backing headteachers to manage behaviour and enforce discipline. We will require schools to follow our guidance on banning the use of mobile phones during the school day, which is proven to boost attainment, reduce bullying and support good behaviour in schools. We will attract more talented teachers by expanding our recruitment and retention premium and reducing workload. From this September, new teachers in priority areas and key STEM and technical subjects will receive bonuses of up to £30,000 tax-free over five years. We will extend the payments to eligible teachers in our further education colleges. We will always support and celebrate our further education colleges.\\nWe will champion excellence in our classrooms.', '\\x07\\nWe\\n\\x07\\nwill\\x07\\ng\\net\\n\\x07\\nmore\\n\\x07\\nteachers\\n\\x07\\ninto\\n\\x07\\nshortage \\x07\\ns\\nubjects, support areas that face recruitment\\n\\x07\\nchallenges,\\n\\x07\\nand\\n\\x07\\ntackle\\x07\\nr\\netention\\n\\x07\\nissues.\\n\\x07\\nThe\\n\\x07\\nway\\n\\x07\\nbursaries \\x07\\nar\\ne allocated, and the structure of retention\\n\\x07\\npayments,\\n\\x07\\nwill\\n\\x07\\nbe\\n\\x07\\nreviewed.Teaching\\n\\x07\\nis\\n\\x07\\na\\n\\x07\\nhard-earned\\n\\x07\\nand\\x07\\nh\\nard-learned \\x07s\\nkill,\\x07L\\nabour\\x07w\\nill\\x07 w\\nork\\n\\x07\\nto\\n\\x07\\nfurther\\n\\x07\\nraise\\n\\x07\\nits\\n\\x07\\nstatus.\\x07\\nW\\ne\\n\\x07\\nwill\\n\\x07\\nupdate\\n\\x07\\nthe\\n\\x07\\nEarly\\n\\x07\\nCareer\\x07\\nF\\nramework, \\x07m\\naintaining \\x07i\\nts\\x07\\ngr\\nounding \\x07in\\x07e\\nvidence, \\x07and\\x07\\ne\\nnsure\\n\\x07\\nany\\n\\x07\\nnew\\n\\x07\\nteacher\\n\\x07\\nentering \\x07\\nt\\nhe\\n\\x07\\nclassroom\\n\\x07\\nhas,\\n\\x07\\nor\\n\\x07\\nis\\n\\x07\\nworking \\x07\\nt\\nowards,\\n\\x07\\nQualified\\n\\x07\\nTeacher \\x07\\nS\\ntatus.\\n\\x07\\nWe\\n\\x07\\nwill\\n\\x07\\nintroduce\\n\\x07\\na\\n\\x07\\nnew\\x07\\nT\\neacher\\n\\x07\\nTraining\\n\\x07\\nEntitlement\\n\\x07\\nto\\x07\\ne\\nnsure teachers stay up to date on\\n\\x07\\nbest\\n\\x07\\npractice\\n\\x07\\nwith\\n\\x07\\ncontinuing \\x07\\np\\nrofessional \\x07d\\nevelopment.\\nSchool support staff play a vital role\\n\\x07\\nin\\n\\x07\\nchildren’s\\n\\x07\\neducation\\n\\x07\\nand\\x07\\nd\\nevelopment.']\n",
      "\n",
      "======================================================================\n",
      "\n",
      "Overall Metric Pass Rates\n",
      "\n",
      "Correctness (GEval): 83.33% pass rate\n",
      "Faithfulness: 100.00% pass rate\n",
      "Contextual Relevancy: 16.67% pass rate\n",
      "\n",
      "======================================================================\n",
      "\n"
     ]
    },
    {
     "name": "stderr",
     "output_type": "stream",
     "text": [
      "\n"
     ]
    },
    {
     "data": {
      "text/html": [
       "<pre style=\"white-space:pre;overflow-x:auto;line-height:normal;font-family:Menlo,'DejaVu Sans Mono',consolas,'Courier New',monospace\"><span style=\"color: #05f58d; text-decoration-color: #05f58d\">✓</span> Tests finished 🎉! Run <span style=\"color: #008000; text-decoration-color: #008000\">'deepeval login'</span> to view evaluation results on Confident AI. \n",
       "‼️  NOTE: You can also run evaluations on ALL of deepeval's metrics directly on Confident AI instead.\n",
       "</pre>\n"
      ],
      "text/plain": [
       "\u001b[38;2;5;245;141m✓\u001b[0m Tests finished 🎉! Run \u001b[32m'deepeval login'\u001b[0m to view evaluation results on Confident AI. \n",
       "‼️  NOTE: You can also run evaluations on ALL of deepeval's metrics directly on Confident AI instead.\n"
      ]
     },
     "metadata": {},
     "output_type": "display_data"
    }
   ],
   "source": [
    "query_engine  = vector_store_index.as_query_engine(similarity_top_k=2)\n",
    "evaluate_rag(query_engine, num_questions=6)"
   ]
  },
  {
   "cell_type": "code",
   "execution_count": null,
   "metadata": {},
   "outputs": [],
   "source": []
  }
 ],
 "metadata": {
  "kernelspec": {
   "display_name": "venv",
   "language": "python",
   "name": "python3"
  },
  "language_info": {
   "codemirror_mode": {
    "name": "ipython",
    "version": 3
   },
   "file_extension": ".py",
   "mimetype": "text/x-python",
   "name": "python",
   "nbconvert_exporter": "python",
   "pygments_lexer": "ipython3",
   "version": "3.10.13"
  }
 },
 "nbformat": 4,
 "nbformat_minor": 2
}
