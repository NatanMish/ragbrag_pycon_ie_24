{
 "cells": [
  {
   "cell_type": "markdown",
   "metadata": {},
   "source": [
    "# Hypothetical Document Embedding (HyDE)\n",
    "\n",
    "### Imports and configs"
   ]
  },
  {
   "cell_type": "code",
   "execution_count": 13,
   "metadata": {},
   "outputs": [
    {
     "name": "stdout",
     "output_type": "stream",
     "text": [
      "Creating new vector store...\n"
     ]
    },
    {
     "name": "stderr",
     "output_type": "stream",
     "text": [
      "WARNING:root:Removing unpickleable private attribute _client\n",
      "WARNING:root:Removing unpickleable private attribute _chunking_tokenizer_fn\n",
      "WARNING:root:Removing unpickleable private attribute _split_fns\n",
      "WARNING:root:Removing unpickleable private attribute _sub_sentence_split_fns\n"
     ]
    }
   ],
   "source": [
    "from llama_index.core import SimpleDirectoryReader\n",
    "from llama_index.embeddings.openai import OpenAIEmbedding\n",
    "from llama_index.core.query_pipeline import QueryPipeline\n",
    "from llama_index.core import Settings\n",
    "from llama_index.core import PromptTemplate\n",
    "from llama_index.llms.openai import OpenAI\n",
    "import os\n",
    "import sys\n",
    "from dotenv import load_dotenv\n",
    "from utils import load_or_create_vector_store\n",
    "\n",
    "\n",
    "sys.path.append(os.path.abspath(os.path.join(os.getcwd(), '..')))\n",
    "\n",
    "EMBED_DIMENSION = 512\n",
    "CHUNK_SIZE = 250\n",
    "CHUNK_OVERLAP = 25\n",
    "\n",
    "load_dotenv()\n",
    "\n",
    "os.environ[\"OPENAI_API_KEY\"] = os.getenv('OPENAI_API_KEY')\n",
    "\n",
    "Settings.embed_model = OpenAIEmbedding(model=\"text-embedding-3-small\", dimensions=EMBED_DIMENSION)\n",
    "\n",
    "path = \"../data/\"\n",
    "node_parser = SimpleDirectoryReader(input_dir=path, required_exts=['.txt', '.pdf'])\n",
    "documents = node_parser.load_data()\n",
    "### Set up vector store retriever\n",
    "CACHE_DIR = \"../cache\"\n",
    "VECTOR_STORE_PATH = os.path.join(CACHE_DIR, \"faiss_index.pkl\")\n",
    "HASH_PATH = os.path.join(CACHE_DIR, \"documents_hash.txt\")\n",
    "\n",
    "vector_store_index = load_or_create_vector_store(documents, EMBED_DIMENSION, CHUNK_SIZE, CHUNK_OVERLAP, cache_dir=CACHE_DIR, vector_store_path=VECTOR_STORE_PATH, hash_path=HASH_PATH)\n",
    "retriever = vector_store_index.as_retriever(similarity_top_k=2)"
   ]
  },
  {
   "cell_type": "code",
   "execution_count": 18,
   "metadata": {},
   "outputs": [
    {
     "name": "stdout",
     "output_type": "stream",
     "text": [
      "\u001b[1;3;38;2;155;135;227m> Running module 732a6bd2-b8db-4d35-9248-40e56d2d8300 with input: \n",
      "query: What is the SNP's policy on climate change?\n",
      "chunk_size: 250\n",
      "\n",
      "\u001b[0m\u001b[1;3;38;2;155;135;227m> Running module afce82b9-a3a6-4c1f-bd93-c0efd60c8b2c with input: \n",
      "messages: Given the question 'What is the SNP's policy on climate change?', generate a hypothetical document \n",
      "            that directly answers this question. The document should be \n",
      "            detailed and in...\n",
      "\n",
      "\u001b[0m"
     ]
    }
   ],
   "source": [
    "class HyDERetriever:\n",
    "    def __init__(self, chunk_size=250, chunk_overlap=50, retriever=None):\n",
    "        self.llm = OpenAI(temperature=0, model_name=\"gpt-4o\", max_tokens=4000)\n",
    "        self.embeddings = Settings.embed_model\n",
    "        self.chunk_size = str(chunk_size)\n",
    "        self.chunk_overlap = chunk_overlap\n",
    "        self.vectore_store_retriever = retriever    \n",
    "        \n",
    "        self.hyde_prompt = PromptTemplate(\n",
    "            \"\"\"Given the question '{query}', generate a hypothetical document \n",
    "            that directly answers this question. The document should be \n",
    "            detailed and in-depth.the document size has be exactly \n",
    "            {chunk_size} words.\"\"\",\n",
    "        )\n",
    "        self.hyde_chain = QueryPipeline(chain=[self.hyde_prompt, self.llm], verbose=True)\n",
    "\n",
    "    def generate_hypothetical_document(self, query):\n",
    "        return self.hyde_chain.run(query=query, chunk_size=self.chunk_size)\n",
    "\n",
    "    def retrieve(self, query):\n",
    "        hypothetical_doc = self.generate_hypothetical_document(query)\n",
    "        similar_docs = self.vectore_store_retriever.retrieve(query)\n",
    "        return similar_docs, hypothetical_doc\n",
    "\n",
    "hyde_retriever = HyDERetriever(\n",
    "    chunk_size=CHUNK_SIZE, \n",
    "    chunk_overlap=CHUNK_OVERLAP, \n",
    "    retriever=retriever\n",
    ")\n",
    "test_query = \"What is the SNP's policy on climate change?\"\n",
    "results, hypothetical_doc = hyde_retriever.retrieve(test_query)"
   ]
  },
  {
   "cell_type": "code",
   "execution_count": 19,
   "metadata": {},
   "outputs": [
    {
     "data": {
      "text/plain": [
       "\"The Scottish National Party (SNP) has a strong commitment to tackling climate change and has set ambitious targets to reduce greenhouse gas emissions. The SNP's policy on climate change is centered around transitioning to a low-carbon economy, investing in renewable energy sources, and promoting sustainable practices.\\n\\nOne of the key initiatives of the SNP is the Climate Change (Emissions Reduction Targets) (Scotland) Act, which sets legally binding targets to reduce emissions by at least 75% by 2030 and achieve net-zero emissions by 2045. The SNP also supports the development of renewable energy sources such as wind, solar, and hydro power, with the goal of generating 100% of Scotland's electricity from renewable sources by 2020.\\n\\nIn addition to reducing emissions and promoting renewable energy, the SNP is committed to promoting sustainable practices in areas such as transportation, agriculture, and land use. The SNP has introduced policies to encourage the use of electric vehicles, support sustainable farming practices, and protect Scotland's natural environment.\\n\\nOverall, the SNP's policy on climate change is comprehensive and ambitious, with a focus on reducing emissions, promoting renewable energy, and fostering sustainable practices across all sectors of the economy.\""
      ]
     },
     "execution_count": 19,
     "metadata": {},
     "output_type": "execute_result"
    }
   ],
   "source": [
    "hypothetical_doc.message.content"
   ]
  },
  {
   "cell_type": "code",
   "execution_count": 20,
   "metadata": {},
   "outputs": [
    {
     "data": {
      "text/plain": [
       "'DECISIONS MADE IN SCOTLAND, FOR SCOTLAND.      21SNP General Election Manifesto  2024\\nBan new coal licences. Follow the SNP Scottish Government’s lead and commit to no support for new coal mines, which would undermine  our action to reach net zero.\\nProvide fair funding for climate. Scotland has over two thirds of the UK’s peatland, and currently plants over 60% of trees in the UK, yet funds restoration and planting within our budget, with no help from the UK Government. Westminster must ensure fair funding flows to devolved nations to enable our, and their, climate ambition given that for the whole of the UK to reach net zero by 2050, Scotland must do so  by 2045.\\nEstablish a Four Nations Climate Response Group to agree climate plans across the UK  that deliver on our net-zero targets and ensure  the UK Government stops backtracking on climate ambition.'"
      ]
     },
     "execution_count": 20,
     "metadata": {},
     "output_type": "execute_result"
    }
   ],
   "source": [
    "results[0].text"
   ]
  },
  {
   "cell_type": "code",
   "execution_count": 21,
   "metadata": {},
   "outputs": [
    {
     "data": {
      "text/plain": [
       "'20BUILDING A FAIRER, GREENER ECONOMY Under the SNP, Scotland’s economy is already one of the best performing parts of the UK with both GDP per head and productivity growing faster in Scotland than the UK as a whole.  But we want to go further. Our commitment to tackling the twin crises of climate change and nature loss is unwavering and we believe emissions reduction and economic prosperity go hand in hand. We want  to share in the enormous economic opportunities of the global transition to net zero. SNP MPs will demand the UK Government:\\nBring forward an immediate emergency budget following the election to reverse cuts to public spending and deliver meaningful investment in economic growth, including green energy.\\nWork at pace with the Acorn Project and Scottish Cluster to secure the fastest possible deployment following the UK Government’s failure to support the Acorn carbon capture, utilisation and storage project at track 1.'"
      ]
     },
     "execution_count": 21,
     "metadata": {},
     "output_type": "execute_result"
    }
   ],
   "source": [
    "results[1].text"
   ]
  },
  {
   "cell_type": "code",
   "execution_count": null,
   "metadata": {},
   "outputs": [],
   "source": []
  }
 ],
 "metadata": {
  "kernelspec": {
   "display_name": "venv",
   "language": "python",
   "name": "python3"
  },
  "language_info": {
   "codemirror_mode": {
    "name": "ipython",
    "version": 3
   },
   "file_extension": ".py",
   "mimetype": "text/x-python",
   "name": "python",
   "nbconvert_exporter": "python",
   "pygments_lexer": "ipython3",
   "version": "3.10.13"
  }
 },
 "nbformat": 4,
 "nbformat_minor": 2
}
