{
 "cells": [
  {
   "cell_type": "markdown",
   "metadata": {},
   "source": [
    "# Hypothetical Document Embedding (HyDE)\n",
    "\n",
    "### Imports and configs"
   ]
  },
  {
   "cell_type": "code",
   "execution_count": 2,
   "metadata": {},
   "outputs": [
    {
     "name": "stdout",
     "output_type": "stream",
     "text": [
      "Loading vector store from cache...\n"
     ]
    }
   ],
   "source": [
    "from llama_index.core import SimpleDirectoryReader\n",
    "from llama_index.embeddings.openai import OpenAIEmbedding\n",
    "from llama_index.core.query_pipeline import QueryPipeline\n",
    "from llama_index.core import Settings\n",
    "from llama_index.core import PromptTemplate\n",
    "from llama_index.llms.openai import OpenAI\n",
    "import os\n",
    "import sys\n",
    "from dotenv import load_dotenv\n",
    "from utils import load_or_create_vector_store\n",
    "\n",
    "\n",
    "sys.path.append(os.path.abspath(os.path.join(os.getcwd(), '..')))\n",
    "\n",
    "EMBED_DIMENSION = 512\n",
    "CHUNK_SIZE = 250\n",
    "CHUNK_OVERLAP = 25\n",
    "\n",
    "load_dotenv()\n",
    "\n",
    "os.environ[\"OPENAI_API_KEY\"] = os.getenv('OPENAI_API_KEY')\n",
    "\n",
    "Settings.embed_model = OpenAIEmbedding(model=\"text-embedding-3-small\", dimensions=EMBED_DIMENSION)\n",
    "\n",
    "path = \"../data/\"\n",
    "node_parser = SimpleDirectoryReader(input_dir=path, required_exts=['.txt', '.pdf'])\n",
    "documents = node_parser.load_data()\n",
    "### Set up vector store retriever\n",
    "CACHE_DIR = \"../cache\"\n",
    "VECTOR_STORE_PATH = os.path.join(CACHE_DIR, \"faiss_index.pkl\")\n",
    "HASH_PATH = os.path.join(CACHE_DIR, \"documents_hash.txt\")\n",
    "\n",
    "vector_store_index = load_or_create_vector_store(documents, EMBED_DIMENSION, CHUNK_SIZE, CHUNK_OVERLAP, cache_dir=CACHE_DIR, vector_store_path=VECTOR_STORE_PATH, hash_path=HASH_PATH)\n",
    "retriever = vector_store_index.as_retriever(similarity_top_k=2)"
   ]
  },
  {
   "cell_type": "code",
   "execution_count": 3,
   "metadata": {},
   "outputs": [
    {
     "name": "stdout",
     "output_type": "stream",
     "text": [
      "\u001b[1;3;38;2;155;135;227m> Running module b4649b05-da32-4af6-bef3-65fd06e3ade8 with input: \n",
      "query: What is the SNP's policy on climate change?\n",
      "chunk_size: ../data/\n",
      "\n",
      "\u001b[0m\u001b[1;3;38;2;155;135;227m> Running module 6b5b13eb-2924-457a-8d5e-9d27b4ed6b7c with input: \n",
      "messages: Given the question 'What is the SNP's policy on climate change?', generate a hypothetical document that directly answers this question. The document should be detailed and in-depth.\n",
      "            the do...\n",
      "\n",
      "\u001b[0m"
     ]
    },
    {
     "data": {
      "text/plain": [
       "[NodeWithScore(node=TextNode(id_='13da08e2-6989-45d8-bd49-75da6745c23b', embedding=None, metadata={'page_label': '23', 'file_name': '2024-06-20b-SNP-General-Election-Manifesto-2024_interactive.pdf', 'file_path': '/Users/user/Projects/ragbrag_pycon_ie_24/notebooks/../data/2024-06-20b-SNP-General-Election-Manifesto-2024_interactive.pdf', 'file_type': 'application/pdf', 'file_size': 3559498, 'creation_date': '2024-09-24', 'last_modified_date': '2024-09-24'}, excluded_embed_metadata_keys=['file_name', 'file_type', 'file_size', 'creation_date', 'last_modified_date', 'last_accessed_date'], excluded_llm_metadata_keys=['file_name', 'file_type', 'file_size', 'creation_date', 'last_modified_date', 'last_accessed_date'], relationships={<NodeRelationship.SOURCE: '1'>: RelatedNodeInfo(node_id='be0b9553-2008-4c84-9a14-b267a3aa2ce4', node_type=<ObjectType.DOCUMENT: '4'>, metadata={'page_label': '23', 'file_name': '2024-06-20b-SNP-General-Election-Manifesto-2024_interactive.pdf', 'file_path': '/Users/user/Projects/ragbrag_pycon_ie_24/notebooks/../data/2024-06-20b-SNP-General-Election-Manifesto-2024_interactive.pdf', 'file_type': 'application/pdf', 'file_size': 3559498, 'creation_date': '2024-09-24', 'last_modified_date': '2024-09-24'}, hash='bff681736c663d580d58b4b0fcc399e3c50e33f0fe4df0e3d3abff6d3b974611'), <NodeRelationship.NEXT: '3'>: RelatedNodeInfo(node_id='92fbf9f9-25d0-40db-ae2f-80e39e776881', node_type=<ObjectType.TEXT: '1'>, metadata={}, hash='73191df5f1c0d74a143ef5266344008301eb54e1809bb8105a319f3dd128a042')}, text='DECISIONS MADE IN SCOTLAND, FOR SCOTLAND.      21SNP General Election Manifesto  2024\\nBan new coal licences. Follow the SNP Scottish Government’s lead and commit to no support for new coal mines, which would undermine  our action to reach net zero.\\nProvide fair funding for climate. Scotland has over two thirds of the UK’s peatland, and currently plants over 60% of trees in the UK, yet funds restoration and planting within our budget, with no help from the UK Government. Westminster must ensure fair funding flows to devolved nations to enable our, and their, climate ambition given that for the whole of the UK to reach net zero by 2050, Scotland must do so  by 2045.\\nEstablish a Four Nations Climate Response Group to agree climate plans across the UK  that deliver on our net-zero targets and ensure  the UK Government stops backtracking on climate ambition.\\nDevolve powers to create a bespoke migration system for Scotland that values those who decide to work, live, study and invest here and allows us to address our specific demographic and economic needs. Introduce a rural visa pilot scheme. Scotland should have full powers over immigration, including the devolution of overseas workers’ employment visas. Until then, it is vital the UK Government acknowledges the distinct demographic challenges we face in Scotland and introduce a pilot to mitigate against labour shortages as a result of a hard Brexit and hostile immigration policies.\\nMitigate the harm of Brexit on productivity  by reviewing immigration rules and expanding shortage occupation lists, so businesses have access to the workforce they need. Provide sustainable funding for farming.  Despite numerous requests, Scotland has had no commitment from Westminster on any future funding for farming after 2025. The UK  Government must increase funding for farming  – to at least pre-Brexit levels - and provide certainty through multi-annual funding frameworks. Agree a veterinary agreement with the EU to ease exports and imports.\\nGive Scotland our rightful share of marine funding.', mimetype='text/plain', start_char_idx=1, end_char_idx=2059, text_template='{metadata_str}\\n\\n{content}', metadata_template='{key}: {value}', metadata_seperator='\\n'), score=0.6422272639609496),\n",
       " NodeWithScore(node=TextNode(id_='bbaa4d48-b168-4c86-815f-374c66dcf06b', embedding=None, metadata={'page_label': '22', 'file_name': '2024-06-20b-SNP-General-Election-Manifesto-2024_interactive.pdf', 'file_path': '/Users/user/Projects/ragbrag_pycon_ie_24/notebooks/../data/2024-06-20b-SNP-General-Election-Manifesto-2024_interactive.pdf', 'file_type': 'application/pdf', 'file_size': 3559498, 'creation_date': '2024-09-24', 'last_modified_date': '2024-09-24'}, excluded_embed_metadata_keys=['file_name', 'file_type', 'file_size', 'creation_date', 'last_modified_date', 'last_accessed_date'], excluded_llm_metadata_keys=['file_name', 'file_type', 'file_size', 'creation_date', 'last_modified_date', 'last_accessed_date'], relationships={<NodeRelationship.SOURCE: '1'>: RelatedNodeInfo(node_id='cc415f29-5346-4168-8190-b97b8c34a263', node_type=<ObjectType.DOCUMENT: '4'>, metadata={'page_label': '22', 'file_name': '2024-06-20b-SNP-General-Election-Manifesto-2024_interactive.pdf', 'file_path': '/Users/user/Projects/ragbrag_pycon_ie_24/notebooks/../data/2024-06-20b-SNP-General-Election-Manifesto-2024_interactive.pdf', 'file_type': 'application/pdf', 'file_size': 3559498, 'creation_date': '2024-09-24', 'last_modified_date': '2024-09-24'}, hash='5b5c1bd65139116412ad899c373f246a012404e4138f193a0cbf3bd2ae3a1e7a'), <NodeRelationship.NEXT: '3'>: RelatedNodeInfo(node_id='d41c3a83-eb03-4f9b-8c37-89b5c99f1249', node_type=<ObjectType.TEXT: '1'>, metadata={}, hash='7ad539fdba0c18a37d1894bd2bd65e32a14736c622252fd1b08c74dbaf6b60cb')}, text='20BUILDING A FAIRER, GREENER ECONOMY Under the SNP, Scotland’s economy is already one of the best performing parts of the UK with both GDP per head and productivity growing faster in Scotland than the UK as a whole.  But we want to go further. Our commitment to tackling the twin crises of climate change and nature loss is unwavering and we believe emissions reduction and economic prosperity go hand in hand. We want  to share in the enormous economic opportunities of the global transition to net zero. SNP MPs will demand the UK Government:\\nBring forward an immediate emergency budget following the election to reverse cuts to public spending and deliver meaningful investment in economic growth, including green energy.\\nWork at pace with the Acorn Project and Scottish Cluster to secure the fastest possible deployment following the UK Government’s failure to support the Acorn carbon capture, utilisation and storage project at track 1. Urgent clarity is required to restore investor confidence, boost economic opportunities and make progress against our net zero obligations. Modernise the Contracts for Difference scheme to enable the stable deployment  of Scotland’s renewable energy pipeline.\\nTake an evidence-based approach to oil and gas.  The UK Government is the decision-maker on new oil and gas licences. We believe any further extraction must be consistent with  our climate obligations and take due account  of energy security considerations. Decisions must be made on a rigorously evidence-led, case-by-case basis, through a robust climate compatibility assessment.Support the North East and the Just Transition.  North Sea oil and gas is naturally declining,  and as the transition to new industries gathers pace, we are clear that the workers, families  and people of that industry and the North East must not be abandoned. We are supporting  them with the £500 million North-East Transition Fund - a fund the UK Government must now  at least match. Deliver a sustainable future for Grangemouth.\\nThe future of the Grangemouth complex must be secured and a just transition delivered for the workforce. The UK Government must recognise the importance of the whole site to Scotland’s economy and communities and must invest in a sustainable future.', mimetype='text/plain', start_char_idx=0, end_char_idx=2266, text_template='{metadata_str}\\n\\n{content}', metadata_template='{key}: {value}', metadata_seperator='\\n'), score=0.605881411490772)]"
      ]
     },
     "execution_count": 3,
     "metadata": {},
     "output_type": "execute_result"
    }
   ],
   "source": [
    "class HyDERetriever:\n",
    "    def __init__(self, chunk_size=250, chunk_overlap=50, retriever=None):\n",
    "        self.llm = OpenAI(temperature=0, model_name=\"gpt-4o\", max_tokens=4000)\n",
    "        self.embeddings = Settings.embed_model\n",
    "        self.chunk_size = chunk_size\n",
    "        self.chunk_overlap = chunk_overlap\n",
    "        self.vectore_store_retriever = retriever    \n",
    "        \n",
    "        self.hyde_prompt = PromptTemplate(\n",
    "            \"\"\"Given the question '{query}', generate a hypothetical document \n",
    "            that directly answers this question. The document should be \n",
    "            detailed and in-depth.the document size has be exactly \n",
    "            {chunk_size} characters.\"\"\",\n",
    "        )\n",
    "        self.hyde_chain = QueryPipeline(chain=[self.hyde_prompt, self.llm], verbose=True)\n",
    "\n",
    "    def generate_hypothetical_document(self, query):\n",
    "        return self.hyde_chain.run(query=query, chunk_size=self.chunk_size)\n",
    "\n",
    "    def retrieve(self, query):\n",
    "        hypothetical_doc = self.generate_hypothetical_document(query)\n",
    "        similar_docs = self.vectore_store_retriever.retrieve(query)\n",
    "        return similar_docs, hypothetical_doc\n",
    "\n",
    "hyde_retriever = HyDERetriever(\n",
    "    chunk_size=CHUNK_SIZE, \n",
    "    chunk_overlap=CHUNK_OVERLAP, \n",
    "    retriever=retriever\n",
    ")\n",
    "test_query = \"What is the SNP's policy on climate change?\"\n",
    "results, hypothetical_doc = hyde_retriever.retrieve(test_query)"
   ]
  },
  {
   "cell_type": "code",
   "execution_count": 4,
   "metadata": {},
   "outputs": [
    {
     "data": {
      "text/plain": [
       "ChatResponse(message=ChatMessage(role=<MessageRole.ASSISTANT: 'assistant'>, content=\"The SNP's policy on climate change is centered around the goal of achieving net-zero greenhouse gas emissions by 2045. This ambitious target is in line with the recommendations of the Intergovernmental Panel on Climate Change (IPCC) to limit global warming to 1.5 degrees Celsius above pre-industrial levels. To achieve this target, the SNP has outlined a comprehensive plan that includes a range of measures to reduce emissions across all sectors of the economy.\\n\\nOne key aspect of the SNP's climate change policy is the promotion of renewable energy sources. The party has committed to increasing the share of renewable energy in Scotland's electricity mix to 100% by 2030. This will involve investing in wind, solar, and hydroelectric power, as well as supporting the development of new technologies such as tidal and wave energy. The SNP also aims to phase out the use of fossil fuels for electricity generation, with a particular focus on closing coal-fired power stations.\\n\\nIn addition to promoting renewable energy, the SNP is also committed to improving energy efficiency in homes and buildings. The party has set a target to upgrade all homes in Scotland to at least an Energy Performance Certificate (EPC) rating of C by 2030. This will involve providing financial support for energy efficiency measures such as insulation, double glazing, and efficient heating systems. The SNP also plans to introduce regulations to ensure that all new buildings meet high energy efficiency standards.\\n\\nThe SNP's climate change policy also includes measures to reduce emissions from transport, industry, and agriculture. The party has pledged to invest in public transport infrastructure, promote the use of electric vehicles, and support the development of low-carbon technologies in industry. The SNP also aims to promote sustainable farming practices and reduce emissions from agriculture through measures such as tree planting and peatland restoration.\\n\\nOverall, the SNP's policy on climate change is ambitious and comprehensive, with a strong focus on reducing emissions across all sectors of the economy. By setting a target of achieving net-zero emissions by 2045, the SNP is demonstrating its commitment to tackling climate change and protecting the environment for future generations.\", additional_kwargs={}), raw=ChatCompletion(id='chatcmpl-AKNkhomoEJCvdsDdkNjLZDp9XQeAd', choices=[Choice(finish_reason='stop', index=0, logprobs=None, message=ChatCompletionMessage(content=\"The SNP's policy on climate change is centered around the goal of achieving net-zero greenhouse gas emissions by 2045. This ambitious target is in line with the recommendations of the Intergovernmental Panel on Climate Change (IPCC) to limit global warming to 1.5 degrees Celsius above pre-industrial levels. To achieve this target, the SNP has outlined a comprehensive plan that includes a range of measures to reduce emissions across all sectors of the economy.\\n\\nOne key aspect of the SNP's climate change policy is the promotion of renewable energy sources. The party has committed to increasing the share of renewable energy in Scotland's electricity mix to 100% by 2030. This will involve investing in wind, solar, and hydroelectric power, as well as supporting the development of new technologies such as tidal and wave energy. The SNP also aims to phase out the use of fossil fuels for electricity generation, with a particular focus on closing coal-fired power stations.\\n\\nIn addition to promoting renewable energy, the SNP is also committed to improving energy efficiency in homes and buildings. The party has set a target to upgrade all homes in Scotland to at least an Energy Performance Certificate (EPC) rating of C by 2030. This will involve providing financial support for energy efficiency measures such as insulation, double glazing, and efficient heating systems. The SNP also plans to introduce regulations to ensure that all new buildings meet high energy efficiency standards.\\n\\nThe SNP's climate change policy also includes measures to reduce emissions from transport, industry, and agriculture. The party has pledged to invest in public transport infrastructure, promote the use of electric vehicles, and support the development of low-carbon technologies in industry. The SNP also aims to promote sustainable farming practices and reduce emissions from agriculture through measures such as tree planting and peatland restoration.\\n\\nOverall, the SNP's policy on climate change is ambitious and comprehensive, with a strong focus on reducing emissions across all sectors of the economy. By setting a target of achieving net-zero emissions by 2045, the SNP is demonstrating its commitment to tackling climate change and protecting the environment for future generations.\", refusal=None, role='assistant', function_call=None, tool_calls=None))], created=1729421227, model='gpt-3.5-turbo-0125', object='chat.completion', service_tier=None, system_fingerprint=None, usage=CompletionUsage(completion_tokens=422, prompt_tokens=52, total_tokens=474, prompt_tokens_details={'cached_tokens': 0}, completion_tokens_details={'reasoning_tokens': 0})), delta=None, logprobs=None, additional_kwargs={'prompt_tokens': 52, 'completion_tokens': 422, 'total_tokens': 474})"
      ]
     },
     "execution_count": 4,
     "metadata": {},
     "output_type": "execute_result"
    }
   ],
   "source": [
    "hypothetical_doc"
   ]
  },
  {
   "cell_type": "code",
   "execution_count": 5,
   "metadata": {},
   "outputs": [
    {
     "data": {
      "text/plain": [
       "[NodeWithScore(node=TextNode(id_='13da08e2-6989-45d8-bd49-75da6745c23b', embedding=None, metadata={'page_label': '23', 'file_name': '2024-06-20b-SNP-General-Election-Manifesto-2024_interactive.pdf', 'file_path': '/Users/user/Projects/ragbrag_pycon_ie_24/notebooks/../data/2024-06-20b-SNP-General-Election-Manifesto-2024_interactive.pdf', 'file_type': 'application/pdf', 'file_size': 3559498, 'creation_date': '2024-09-24', 'last_modified_date': '2024-09-24'}, excluded_embed_metadata_keys=['file_name', 'file_type', 'file_size', 'creation_date', 'last_modified_date', 'last_accessed_date'], excluded_llm_metadata_keys=['file_name', 'file_type', 'file_size', 'creation_date', 'last_modified_date', 'last_accessed_date'], relationships={<NodeRelationship.SOURCE: '1'>: RelatedNodeInfo(node_id='be0b9553-2008-4c84-9a14-b267a3aa2ce4', node_type=<ObjectType.DOCUMENT: '4'>, metadata={'page_label': '23', 'file_name': '2024-06-20b-SNP-General-Election-Manifesto-2024_interactive.pdf', 'file_path': '/Users/user/Projects/ragbrag_pycon_ie_24/notebooks/../data/2024-06-20b-SNP-General-Election-Manifesto-2024_interactive.pdf', 'file_type': 'application/pdf', 'file_size': 3559498, 'creation_date': '2024-09-24', 'last_modified_date': '2024-09-24'}, hash='bff681736c663d580d58b4b0fcc399e3c50e33f0fe4df0e3d3abff6d3b974611'), <NodeRelationship.NEXT: '3'>: RelatedNodeInfo(node_id='92fbf9f9-25d0-40db-ae2f-80e39e776881', node_type=<ObjectType.TEXT: '1'>, metadata={}, hash='73191df5f1c0d74a143ef5266344008301eb54e1809bb8105a319f3dd128a042')}, text='DECISIONS MADE IN SCOTLAND, FOR SCOTLAND.      21SNP General Election Manifesto  2024\\nBan new coal licences. Follow the SNP Scottish Government’s lead and commit to no support for new coal mines, which would undermine  our action to reach net zero.\\nProvide fair funding for climate. Scotland has over two thirds of the UK’s peatland, and currently plants over 60% of trees in the UK, yet funds restoration and planting within our budget, with no help from the UK Government. Westminster must ensure fair funding flows to devolved nations to enable our, and their, climate ambition given that for the whole of the UK to reach net zero by 2050, Scotland must do so  by 2045.\\nEstablish a Four Nations Climate Response Group to agree climate plans across the UK  that deliver on our net-zero targets and ensure  the UK Government stops backtracking on climate ambition.\\nDevolve powers to create a bespoke migration system for Scotland that values those who decide to work, live, study and invest here and allows us to address our specific demographic and economic needs. Introduce a rural visa pilot scheme. Scotland should have full powers over immigration, including the devolution of overseas workers’ employment visas. Until then, it is vital the UK Government acknowledges the distinct demographic challenges we face in Scotland and introduce a pilot to mitigate against labour shortages as a result of a hard Brexit and hostile immigration policies.\\nMitigate the harm of Brexit on productivity  by reviewing immigration rules and expanding shortage occupation lists, so businesses have access to the workforce they need. Provide sustainable funding for farming.  Despite numerous requests, Scotland has had no commitment from Westminster on any future funding for farming after 2025. The UK  Government must increase funding for farming  – to at least pre-Brexit levels - and provide certainty through multi-annual funding frameworks. Agree a veterinary agreement with the EU to ease exports and imports.\\nGive Scotland our rightful share of marine funding.', mimetype='text/plain', start_char_idx=1, end_char_idx=2059, text_template='{metadata_str}\\n\\n{content}', metadata_template='{key}: {value}', metadata_seperator='\\n'), score=0.6422272639609496),\n",
       " NodeWithScore(node=TextNode(id_='bbaa4d48-b168-4c86-815f-374c66dcf06b', embedding=None, metadata={'page_label': '22', 'file_name': '2024-06-20b-SNP-General-Election-Manifesto-2024_interactive.pdf', 'file_path': '/Users/user/Projects/ragbrag_pycon_ie_24/notebooks/../data/2024-06-20b-SNP-General-Election-Manifesto-2024_interactive.pdf', 'file_type': 'application/pdf', 'file_size': 3559498, 'creation_date': '2024-09-24', 'last_modified_date': '2024-09-24'}, excluded_embed_metadata_keys=['file_name', 'file_type', 'file_size', 'creation_date', 'last_modified_date', 'last_accessed_date'], excluded_llm_metadata_keys=['file_name', 'file_type', 'file_size', 'creation_date', 'last_modified_date', 'last_accessed_date'], relationships={<NodeRelationship.SOURCE: '1'>: RelatedNodeInfo(node_id='cc415f29-5346-4168-8190-b97b8c34a263', node_type=<ObjectType.DOCUMENT: '4'>, metadata={'page_label': '22', 'file_name': '2024-06-20b-SNP-General-Election-Manifesto-2024_interactive.pdf', 'file_path': '/Users/user/Projects/ragbrag_pycon_ie_24/notebooks/../data/2024-06-20b-SNP-General-Election-Manifesto-2024_interactive.pdf', 'file_type': 'application/pdf', 'file_size': 3559498, 'creation_date': '2024-09-24', 'last_modified_date': '2024-09-24'}, hash='5b5c1bd65139116412ad899c373f246a012404e4138f193a0cbf3bd2ae3a1e7a'), <NodeRelationship.NEXT: '3'>: RelatedNodeInfo(node_id='d41c3a83-eb03-4f9b-8c37-89b5c99f1249', node_type=<ObjectType.TEXT: '1'>, metadata={}, hash='7ad539fdba0c18a37d1894bd2bd65e32a14736c622252fd1b08c74dbaf6b60cb')}, text='20BUILDING A FAIRER, GREENER ECONOMY Under the SNP, Scotland’s economy is already one of the best performing parts of the UK with both GDP per head and productivity growing faster in Scotland than the UK as a whole.  But we want to go further. Our commitment to tackling the twin crises of climate change and nature loss is unwavering and we believe emissions reduction and economic prosperity go hand in hand. We want  to share in the enormous economic opportunities of the global transition to net zero. SNP MPs will demand the UK Government:\\nBring forward an immediate emergency budget following the election to reverse cuts to public spending and deliver meaningful investment in economic growth, including green energy.\\nWork at pace with the Acorn Project and Scottish Cluster to secure the fastest possible deployment following the UK Government’s failure to support the Acorn carbon capture, utilisation and storage project at track 1. Urgent clarity is required to restore investor confidence, boost economic opportunities and make progress against our net zero obligations. Modernise the Contracts for Difference scheme to enable the stable deployment  of Scotland’s renewable energy pipeline.\\nTake an evidence-based approach to oil and gas.  The UK Government is the decision-maker on new oil and gas licences. We believe any further extraction must be consistent with  our climate obligations and take due account  of energy security considerations. Decisions must be made on a rigorously evidence-led, case-by-case basis, through a robust climate compatibility assessment.Support the North East and the Just Transition.  North Sea oil and gas is naturally declining,  and as the transition to new industries gathers pace, we are clear that the workers, families  and people of that industry and the North East must not be abandoned. We are supporting  them with the £500 million North-East Transition Fund - a fund the UK Government must now  at least match. Deliver a sustainable future for Grangemouth.\\nThe future of the Grangemouth complex must be secured and a just transition delivered for the workforce. The UK Government must recognise the importance of the whole site to Scotland’s economy and communities and must invest in a sustainable future.', mimetype='text/plain', start_char_idx=0, end_char_idx=2266, text_template='{metadata_str}\\n\\n{content}', metadata_template='{key}: {value}', metadata_seperator='\\n'), score=0.605881411490772)]"
      ]
     },
     "execution_count": 5,
     "metadata": {},
     "output_type": "execute_result"
    }
   ],
   "source": [
    "results"
   ]
  },
  {
   "cell_type": "code",
   "execution_count": null,
   "metadata": {},
   "outputs": [],
   "source": []
  }
 ],
 "metadata": {
  "kernelspec": {
   "display_name": "venv",
   "language": "python",
   "name": "python3"
  },
  "language_info": {
   "codemirror_mode": {
    "name": "ipython",
    "version": 3
   },
   "file_extension": ".py",
   "mimetype": "text/x-python",
   "name": "python",
   "nbconvert_exporter": "python",
   "pygments_lexer": "ipython3",
   "version": "3.10.13"
  }
 },
 "nbformat": 4,
 "nbformat_minor": 2
}
