{
 "cells": [
  {
   "cell_type": "markdown",
   "metadata": {},
   "source": [
    "# Semantic Chunking\n",
    "\n",
    "### Imports and configs"
   ]
  },
  {
   "cell_type": "code",
   "execution_count": 1,
   "metadata": {},
   "outputs": [
    {
     "name": "stderr",
     "output_type": "stream",
     "text": [
      "/Users/user/Projects/ragbrag_pycon_ie_24/venv/lib/python3.10/site-packages/pydantic/_internal/_fields.py:132: UserWarning: Field \"model_name\" in HuggingFaceInferenceAPIEmbeddings has conflict with protected namespace \"model_\".\n",
      "\n",
      "You may be able to resolve this warning by setting `model_config['protected_namespaces'] = ()`.\n",
      "  warnings.warn(\n"
     ]
    }
   ],
   "source": [
    "from llama_index.core import SimpleDirectoryReader, VectorStoreIndex\n",
    "from llama_index.core.ingestion import IngestionPipeline\n",
    "from llama_index.vector_stores.faiss import FaissVectorStore\n",
    "from llama_index.core.node_parser import (\n",
    "    SentenceSplitter,\n",
    "    SemanticSplitterNodeParser,\n",
    ")\n",
    "from llama_index.embeddings.openai import OpenAIEmbedding\n",
    "from llama_index.core import Settings\n",
    "import faiss\n",
    "import os\n",
    "import sys\n",
    "from dotenv import load_dotenv\n",
    "from utils import TextCleaner\n",
    "\n",
    "\n",
    "sys.path.append(os.path.abspath(os.path.join(os.getcwd(), '..')))\n",
    "\n",
    "EMBED_DIMENSION = 512\n",
    "CHUNK_SIZE = 250\n",
    "CHUNK_OVERLAP = 25\n",
    "\n",
    "load_dotenv()\n",
    "\n",
    "os.environ[\"OPENAI_API_KEY\"] = os.getenv('OPENAI_API_KEY')\n",
    "\n",
    "Settings.embed_model = OpenAIEmbedding(model=\"text-embedding-3-small\", dimensions=EMBED_DIMENSION)\n",
    "\n",
    "path = \"../data/\"\n",
    "node_parser = SimpleDirectoryReader(input_dir=path, required_exts=['.txt', '.pdf'])\n",
    "documents = node_parser.load_data()"
   ]
  },
  {
   "cell_type": "markdown",
   "metadata": {},
   "source": [
    "### Semantic Chunking"
   ]
  },
  {
   "cell_type": "code",
   "execution_count": 9,
   "metadata": {},
   "outputs": [
    {
     "name": "stdout",
     "output_type": "stream",
     "text": [
      "Creating new vector store...\n"
     ]
    }
   ],
   "source": [
    "\n",
    "print(\"Creating new vector store...\")\n",
    "faiss_index = faiss.IndexFlatL2(EMBED_DIMENSION)\n",
    "vector_store = FaissVectorStore(faiss_index=faiss_index)\n",
    "\n",
    "base_text_splitter = SentenceSplitter(chunk_size=CHUNK_SIZE, chunk_overlap=CHUNK_OVERLAP)\n",
    "\n",
    "pipeline = IngestionPipeline(\n",
    "    transformations=[\n",
    "        TextCleaner(),\n",
    "        base_text_splitter,\n",
    "    ],\n",
    "    vector_store=vector_store,\n",
    ")\n",
    "\n",
    "nodes = pipeline.run(documents=documents)\n",
    "vector_store_index = VectorStoreIndex(nodes)\n",
    "\n",
    "retriever = vector_store_index.as_retriever(similarity_top_k=1)"
   ]
  },
  {
   "cell_type": "code",
   "execution_count": 10,
   "metadata": {},
   "outputs": [
    {
     "name": "stdout",
     "output_type": "stream",
     "text": [
      "Results: DEFENDING DEMOCRACY  AND HUMAN RIGHTS\n",
      "The SNP stands on a strong record of defending Scotland’s democratic functions and institutions, and we will always stand up to promote and protect Scotland’s democracy and make sure that the people of Scotland’s voices are heard. SNP MPs will demand the UK Government:\n",
      "Give the people of Scotland a say on their future. Demand the permanent transfer of legal power to the Scottish Parliament to determine  how Scotland is governed, including the  transfer of power to enable it to legislate for  a referendum.\n",
      "End Westminster’s power grab by demanding the UK government repeal the reprehensible Internal Market Act. We are clear that UK ministers must not be able to act unilaterally across policy areas that are within devolved competencies, and will push for the Sewel Convention to be put on a proper statutory footing.\n",
      "Support abolition of the undemocratic House of Lords.\n"
     ]
    }
   ],
   "source": [
    "test_query = \"What is the SNP's position on the EU?\"\n",
    "results = retriever.retrieve(str_or_query_bundle=test_query)\n",
    "print(f\"Results: {results[0].text}\")"
   ]
  },
  {
   "cell_type": "code",
   "execution_count": 7,
   "metadata": {},
   "outputs": [],
   "source": [
    "semantic_splitter = SemanticSplitterNodeParser(\n",
    "    buffer_size=1,  # number of sentences to group together when evaluating semantic similarity\n",
    "    breakpoint_percentile_threshold=95,  # The percentile of cosine dissimilarity that must be exceeded between a group of sentences and the next to form a node. The smaller this number is, the more nodes will be generated\n",
    "    embed_model=Settings.embed_model\n",
    ")\n",
    "pipeline = IngestionPipeline(\n",
    "    transformations=[\n",
    "        TextCleaner(),\n",
    "        semantic_splitter,\n",
    "    ],\n",
    "    vector_store=vector_store,\n",
    ")\n",
    "\n",
    "nodes = pipeline.run(documents=documents)\n",
    "vector_store_index = VectorStoreIndex(nodes)\n",
    "\n",
    "retriever = vector_store_index.as_retriever(similarity_top_k=1)"
   ]
  },
  {
   "cell_type": "code",
   "execution_count": 8,
   "metadata": {},
   "outputs": [
    {
     "name": "stdout",
     "output_type": "stream",
     "text": [
      "Results:  DECISIONS MADE IN SCOTLAND, FOR SCOTLAND.      27SNP General Election Manifesto  2024\n",
      "SCOTLAND’S PLACE IN THE WORLD\n",
      "We want to see an independent Scotland take its place in the international community; alongside the 193 other United Nations member states, able to join the European Union, with the powers necessary to protect our citizens and prosper in the global economy. We are determined that Scotland plays a positive and progressive role in international affairs through action and leadership. SNP MPs will call on the UK Government to:\n",
      "Demand an immediate ceasefire in Gaza, release of hostages and end arms sales to Israel. We will continue to call on the UK Government to follow the lead of Ireland, Norway and Spain by immediately recognising Palestine as a state. We believe that recognising Palestine as a state in its own right is the only way to move towards a just and durable long-term peace, in the interests of both Palestinians and Israelis.\n",
      "Stand by Ukraine and continue to strongly oppose the Russian invasion. We will continue to support Ukrainians who have settled in Scotland and will press the UK Government to extend visa rights whilst the conflict continues. We will do everything in our power  to see the restoration of peace and ensure Ukraine’s sovereignty, democracy, independence and territorial integrity is maintained. We will continue to back military support from the United Kingdom to Ukraine and will press the UK Government to ensure the sanctions regime against Russia is effective. Scrap Trident and invest the billions spent funding these immoral weapons in public services, like our NHS and schools and adequately funding conventional defence. The SNP has never and will never support the retention or renewal of Trident, and will press the UK government to meet their international obligations on nuclear disarmament.\n",
      "Connect Scotland’s diaspora across  the globe by working with national and international partners to implement the  Scottish Connections Framework. Agree an EU-wide youth mobility scheme.  Despite the EU proposing a post-Brexit mobility scheme for young people, both the Tories and Labour rejected it within hours. The UK Government must stop failing young people and agree a scheme so that young people can benefit from the opportunities that living, working and studying in the EU can bring.\n",
      "Immediately restore and maintain the UK international aid budget to 0.7%.\n",
      "\n"
     ]
    }
   ],
   "source": [
    "test_query = \"What is the SNP's position on the EU?\"\n",
    "results = retriever.retrieve(str_or_query_bundle=test_query)\n",
    "print(f\"Results: {results[0].text}\")"
   ]
  },
  {
   "cell_type": "code",
   "execution_count": null,
   "metadata": {},
   "outputs": [],
   "source": []
  }
 ],
 "metadata": {
  "kernelspec": {
   "display_name": "venv",
   "language": "python",
   "name": "python3"
  },
  "language_info": {
   "codemirror_mode": {
    "name": "ipython",
    "version": 3
   },
   "file_extension": ".py",
   "mimetype": "text/x-python",
   "name": "python",
   "nbconvert_exporter": "python",
   "pygments_lexer": "ipython3",
   "version": "3.10.13"
  }
 },
 "nbformat": 4,
 "nbformat_minor": 2
}
